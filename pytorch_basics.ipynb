{
  "nbformat": 4,
  "nbformat_minor": 0,
  "metadata": {
    "colab": {
      "name": "pytorch_basics.ipynb",
      "provenance": [],
      "collapsed_sections": [],
      "authorship_tag": "ABX9TyOWss/G8xMd8D/36f4/Xaby",
      "include_colab_link": true
    },
    "kernelspec": {
      "name": "python3",
      "display_name": "Python 3"
    }
  },
  "cells": [
    {
      "cell_type": "markdown",
      "metadata": {
        "id": "view-in-github",
        "colab_type": "text"
      },
      "source": [
        "<a href=\"https://colab.research.google.com/github/dipanshuhaldar/pytorch_basics/blob/master/pytorch_basics.ipynb\" target=\"_parent\"><img src=\"https://colab.research.google.com/assets/colab-badge.svg\" alt=\"Open In Colab\"/></a>"
      ]
    },
    {
      "cell_type": "markdown",
      "metadata": {
        "id": "jY1K0pwqwy23",
        "colab_type": "text"
      },
      "source": [
        "**PyTorch Basics: Tensors & Gradients**"
      ]
    },
    {
      "cell_type": "code",
      "metadata": {
        "id": "JOhYcUZTM0Vt",
        "colab_type": "code",
        "colab": {
          "base_uri": "https://localhost:8080/",
          "height": 35
        },
        "outputId": "420b8786-c4ca-4390-b02a-df70064af290"
      },
      "source": [
        "#import Pytorch library\n",
        "import torch\n",
        "print(f'{torch.__version__}')"
      ],
      "execution_count": 1,
      "outputs": [
        {
          "output_type": "stream",
          "text": [
            "1.5.0+cu101\n"
          ],
          "name": "stdout"
        }
      ]
    },
    {
      "cell_type": "markdown",
      "metadata": {
        "id": "gtITKHWvQOeS",
        "colab_type": "text"
      },
      "source": [
        "**Tensors**\n",
        "\n",
        "At its core, PyTorch is a library for processing tensors. A tensor is a number, vector, matrix or any n-dimensional array. Let's create a tensor with a single number:"
      ]
    },
    {
      "cell_type": "code",
      "metadata": {
        "id": "7d1rWhC6MrC-",
        "colab_type": "code",
        "outputId": "fa210901-d999-4343-b4e9-91706b63e74d",
        "colab": {
          "base_uri": "https://localhost:8080/",
          "height": 35
        }
      },
      "source": [
        "#number\n",
        "t1 = torch.tensor(4.0)\n",
        "t1"
      ],
      "execution_count": 0,
      "outputs": [
        {
          "output_type": "execute_result",
          "data": {
            "text/plain": [
              "tensor(4.)"
            ]
          },
          "metadata": {
            "tags": []
          },
          "execution_count": 2
        }
      ]
    },
    {
      "cell_type": "markdown",
      "metadata": {
        "id": "adLJJCo9Qp0v",
        "colab_type": "text"
      },
      "source": [
        "4. is a shorthand for 4.0. It is used to indicate to Python (and PyTorch) that you want to create a floating point number. We can verify this by checking the dtype attribute of our tensor:"
      ]
    },
    {
      "cell_type": "code",
      "metadata": {
        "id": "DLP2d4x9_sqa",
        "colab_type": "code",
        "outputId": "d3f056a3-5bb5-4746-e93f-744c5bf3fc05",
        "colab": {
          "base_uri": "https://localhost:8080/",
          "height": 35
        }
      },
      "source": [
        "print(f'data type of t1 is: {t1.dtype}')"
      ],
      "execution_count": 0,
      "outputs": [
        {
          "output_type": "stream",
          "text": [
            "data type of t1 is: torch.float32\n"
          ],
          "name": "stdout"
        }
      ]
    },
    {
      "cell_type": "markdown",
      "metadata": {
        "id": "nqo0IhSjQym_",
        "colab_type": "text"
      },
      "source": [
        "Let's try creating slightly more complex tensors:"
      ]
    },
    {
      "cell_type": "code",
      "metadata": {
        "id": "9LgIFpCY_4sh",
        "colab_type": "code",
        "outputId": "a1afc732-31f6-4bf3-eb40-391f4734b09f",
        "colab": {
          "base_uri": "https://localhost:8080/",
          "height": 35
        }
      },
      "source": [
        "#vector\n",
        "t2 = torch.tensor([1., 2, 3, 4])\n",
        "t2"
      ],
      "execution_count": 0,
      "outputs": [
        {
          "output_type": "execute_result",
          "data": {
            "text/plain": [
              "tensor([1., 2., 3., 4.])"
            ]
          },
          "metadata": {
            "tags": []
          },
          "execution_count": 4
        }
      ]
    },
    {
      "cell_type": "code",
      "metadata": {
        "id": "mKtRABJxAFto",
        "colab_type": "code",
        "outputId": "2b5a8967-3695-4836-f297-aa9be7c776a2",
        "colab": {
          "base_uri": "https://localhost:8080/",
          "height": 70
        }
      },
      "source": [
        "#matrix\n",
        "t3 = torch.tensor([\n",
        "                   [5., 6],\n",
        "                   [7, 8],\n",
        "                   [9, 10]\n",
        "])\n",
        "t3"
      ],
      "execution_count": 0,
      "outputs": [
        {
          "output_type": "execute_result",
          "data": {
            "text/plain": [
              "tensor([[ 5.,  6.],\n",
              "        [ 7.,  8.],\n",
              "        [ 9., 10.]])"
            ]
          },
          "metadata": {
            "tags": []
          },
          "execution_count": 5
        }
      ]
    },
    {
      "cell_type": "code",
      "metadata": {
        "id": "AP-HDA7BAYRX",
        "colab_type": "code",
        "outputId": "5d8dee7b-638c-4b44-edbe-47efcbca6361",
        "colab": {
          "base_uri": "https://localhost:8080/",
          "height": 106
        }
      },
      "source": [
        "#3-dimensional array\n",
        "t4 = torch.tensor([\n",
        "                   [[11., 12, 13], [13, 14, 15]],\n",
        "                   [[15, 16, 17], [17, 18,19]]\n",
        "])\n",
        "t4"
      ],
      "execution_count": 0,
      "outputs": [
        {
          "output_type": "execute_result",
          "data": {
            "text/plain": [
              "tensor([[[11., 12., 13.],\n",
              "         [13., 14., 15.]],\n",
              "\n",
              "        [[15., 16., 17.],\n",
              "         [17., 18., 19.]]])"
            ]
          },
          "metadata": {
            "tags": []
          },
          "execution_count": 6
        }
      ]
    },
    {
      "cell_type": "markdown",
      "metadata": {
        "id": "zUngA1hzQ4qB",
        "colab_type": "text"
      },
      "source": [
        "Tensors can have any number of dimensions, and different lengths along each dimension. We can inspect the length along each dimension using the .shape property of a tensor."
      ]
    },
    {
      "cell_type": "code",
      "metadata": {
        "id": "ebD6mO8HA-z3",
        "colab_type": "code",
        "outputId": "b4d13658-a4ad-4ee2-af9b-7ef35b3646e3",
        "colab": {
          "base_uri": "https://localhost:8080/",
          "height": 53
        }
      },
      "source": [
        "print(t1)\n",
        "t1.shape"
      ],
      "execution_count": 0,
      "outputs": [
        {
          "output_type": "stream",
          "text": [
            "tensor(4.)\n"
          ],
          "name": "stdout"
        },
        {
          "output_type": "execute_result",
          "data": {
            "text/plain": [
              "torch.Size([])"
            ]
          },
          "metadata": {
            "tags": []
          },
          "execution_count": 7
        }
      ]
    },
    {
      "cell_type": "code",
      "metadata": {
        "id": "yyyhE-q6BVWJ",
        "colab_type": "code",
        "outputId": "2efa49bc-51ca-4e88-b586-bd5c21fe5f78",
        "colab": {
          "base_uri": "https://localhost:8080/",
          "height": 53
        }
      },
      "source": [
        "print(t2)\n",
        "t2.shape"
      ],
      "execution_count": 0,
      "outputs": [
        {
          "output_type": "stream",
          "text": [
            "tensor([1., 2., 3., 4.])\n"
          ],
          "name": "stdout"
        },
        {
          "output_type": "execute_result",
          "data": {
            "text/plain": [
              "torch.Size([4])"
            ]
          },
          "metadata": {
            "tags": []
          },
          "execution_count": 8
        }
      ]
    },
    {
      "cell_type": "code",
      "metadata": {
        "id": "XLoUayBbBZLs",
        "colab_type": "code",
        "outputId": "2ea297a9-d3f8-4697-b965-2646a9e085e9",
        "colab": {
          "base_uri": "https://localhost:8080/",
          "height": 88
        }
      },
      "source": [
        "print(t3)\n",
        "t3.shape"
      ],
      "execution_count": 0,
      "outputs": [
        {
          "output_type": "stream",
          "text": [
            "tensor([[ 5.,  6.],\n",
            "        [ 7.,  8.],\n",
            "        [ 9., 10.]])\n"
          ],
          "name": "stdout"
        },
        {
          "output_type": "execute_result",
          "data": {
            "text/plain": [
              "torch.Size([3, 2])"
            ]
          },
          "metadata": {
            "tags": []
          },
          "execution_count": 9
        }
      ]
    },
    {
      "cell_type": "code",
      "metadata": {
        "id": "1gpg4f_lBefL",
        "colab_type": "code",
        "outputId": "c562552c-abf8-4602-b01b-f76c9e5b6959",
        "colab": {
          "base_uri": "https://localhost:8080/",
          "height": 124
        }
      },
      "source": [
        "print(t4)\n",
        "t4.shape"
      ],
      "execution_count": 0,
      "outputs": [
        {
          "output_type": "stream",
          "text": [
            "tensor([[[11., 12., 13.],\n",
            "         [13., 14., 15.]],\n",
            "\n",
            "        [[15., 16., 17.],\n",
            "         [17., 18., 19.]]])\n"
          ],
          "name": "stdout"
        },
        {
          "output_type": "execute_result",
          "data": {
            "text/plain": [
              "torch.Size([2, 2, 3])"
            ]
          },
          "metadata": {
            "tags": []
          },
          "execution_count": 10
        }
      ]
    },
    {
      "cell_type": "markdown",
      "metadata": {
        "id": "kHcKRu_kQ-Tl",
        "colab_type": "text"
      },
      "source": [
        "We've created 3 tensors x, w and b, all numbers. w and b have an additional parameter requires_grad set to True. We'll see what it does in just a moment.\n",
        "\n",
        "Let's create a new tensor y by combining these tensors:"
      ]
    },
    {
      "cell_type": "code",
      "metadata": {
        "id": "5zAIIjhGBjRD",
        "colab_type": "code",
        "colab": {}
      },
      "source": [
        "#create tensors\n",
        "x = torch.tensor(3.)\n",
        "#x = torch.tensor(3., requires_grad = True)\n",
        "w = torch.tensor(4., requires_grad = True)\n",
        "b = torch.tensor(5., requires_grad = True)"
      ],
      "execution_count": 0,
      "outputs": []
    },
    {
      "cell_type": "code",
      "metadata": {
        "id": "l4Ie9vBhCFjx",
        "colab_type": "code",
        "outputId": "02e36cd6-a1e6-46c1-f8ee-d8c9ff7559aa",
        "colab": {
          "base_uri": "https://localhost:8080/",
          "height": 35
        }
      },
      "source": [
        "#arithmatic operation\n",
        "y = w * x + b\n",
        "y"
      ],
      "execution_count": 0,
      "outputs": [
        {
          "output_type": "execute_result",
          "data": {
            "text/plain": [
              "tensor(17., grad_fn=<AddBackward0>)"
            ]
          },
          "metadata": {
            "tags": []
          },
          "execution_count": 12
        }
      ]
    },
    {
      "cell_type": "markdown",
      "metadata": {
        "id": "ANgLVTMzRDEX",
        "colab_type": "text"
      },
      "source": [
        "As expected, y is a tensor with the value 3 * 4 + 5 = 17. What makes PyTorch special is that we can automatically compute the derivative of y w.r.t. the tensors that have requires_grad set to True i.e. w and b. To compute the derivatives, we can call the .backward method on our result y."
      ]
    },
    {
      "cell_type": "code",
      "metadata": {
        "id": "yreX8PsDCOQc",
        "colab_type": "code",
        "colab": {}
      },
      "source": [
        "#compute derivaives\n",
        "y.backward()"
      ],
      "execution_count": 0,
      "outputs": []
    },
    {
      "cell_type": "code",
      "metadata": {
        "id": "6TtUt983CchH",
        "colab_type": "code",
        "outputId": "a6efa8fc-cb95-4f23-f2be-3d1686b2404c",
        "colab": {
          "base_uri": "https://localhost:8080/",
          "height": 70
        }
      },
      "source": [
        "#display gradients\n",
        "print(f'dy/dx: {x.grad}')\n",
        "print(f'dy/dw: {w.grad}')\n",
        "print(f'dy/db: {b.grad}')"
      ],
      "execution_count": 0,
      "outputs": [
        {
          "output_type": "stream",
          "text": [
            "dy/dx: None\n",
            "dy/dw: 3.0\n",
            "dy/db: 1.0\n"
          ],
          "name": "stdout"
        }
      ]
    },
    {
      "cell_type": "markdown",
      "metadata": {
        "id": "PeFpJI7dRH0u",
        "colab_type": "text"
      },
      "source": [
        "As expected, dy/dw has the same value as x i.e. 3, and dy/db has the value 1. Note that x.grad is None, because x doesn't have requires_grad set to True.\n",
        "\n",
        "The \"grad\" in w.grad stands for gradient, which is another term for derivative, used mainly when dealing with matrices."
      ]
    },
    {
      "cell_type": "markdown",
      "metadata": {
        "id": "zpWephVrRMta",
        "colab_type": "text"
      },
      "source": [
        "**Interoperability with Numpy**\n",
        "\n",
        "Numpy is a popular open source library used for mathematical and scientific computing in Python. It enables efficient operations on large multi-dimensional arrays, and has a large ecosystem of supporting libraries:\n",
        "\n",
        "Matplotlib for plotting and visualization\n",
        "OpenCV for image and video processing\n",
        "Pandas for file I/O and data analysis\n",
        "Instead of reinventing the wheel, PyTorch interoperates really well with Numpy to leverage its existing ecosystem of tools and libraries."
      ]
    },
    {
      "cell_type": "markdown",
      "metadata": {
        "id": "WYk15fsZRyeI",
        "colab_type": "text"
      },
      "source": [
        "Here's how we create an array in Numpy:"
      ]
    },
    {
      "cell_type": "code",
      "metadata": {
        "id": "wIC28xvMCzzT",
        "colab_type": "code",
        "outputId": "e7ec5566-3c86-43cd-e7e1-4e518cc309a9",
        "colab": {
          "base_uri": "https://localhost:8080/",
          "height": 53
        }
      },
      "source": [
        "import numpy as np\n",
        "x = np.array([[1., 2],[3, 4]])\n",
        "x"
      ],
      "execution_count": 0,
      "outputs": [
        {
          "output_type": "execute_result",
          "data": {
            "text/plain": [
              "array([[1., 2.],\n",
              "       [3., 4.]])"
            ]
          },
          "metadata": {
            "tags": []
          },
          "execution_count": 15
        }
      ]
    },
    {
      "cell_type": "markdown",
      "metadata": {
        "id": "ObK1GStJR1p8",
        "colab_type": "text"
      },
      "source": [
        "We can convert a Numpy array to a PyTorch tensor using torch.from_numpy."
      ]
    },
    {
      "cell_type": "code",
      "metadata": {
        "id": "WyrlW3BDDlXi",
        "colab_type": "code",
        "outputId": "086103eb-a7e6-454f-c488-d4efbf57317e",
        "colab": {
          "base_uri": "https://localhost:8080/",
          "height": 53
        }
      },
      "source": [
        "#convert numpy array to torch tensor\n",
        "y = torch.from_numpy(x)\n",
        "y"
      ],
      "execution_count": 0,
      "outputs": [
        {
          "output_type": "execute_result",
          "data": {
            "text/plain": [
              "tensor([[1., 2.],\n",
              "        [3., 4.]], dtype=torch.float64)"
            ]
          },
          "metadata": {
            "tags": []
          },
          "execution_count": 16
        }
      ]
    },
    {
      "cell_type": "code",
      "metadata": {
        "id": "9EH9OW8AD1uH",
        "colab_type": "code",
        "outputId": "ea4a64c7-1635-4ea2-e93f-2e236109fcc8",
        "colab": {
          "base_uri": "https://localhost:8080/",
          "height": 35
        }
      },
      "source": [
        "x.dtype, y.dtype"
      ],
      "execution_count": 0,
      "outputs": [
        {
          "output_type": "execute_result",
          "data": {
            "text/plain": [
              "(dtype('float64'), torch.float64)"
            ]
          },
          "metadata": {
            "tags": []
          },
          "execution_count": 17
        }
      ]
    },
    {
      "cell_type": "markdown",
      "metadata": {
        "id": "LaLM5LxMR_Wa",
        "colab_type": "text"
      },
      "source": [
        "We can convert a PyTorch tensor to a Numpy array using the .numpy method of a tensor."
      ]
    },
    {
      "cell_type": "code",
      "metadata": {
        "id": "dZpS5D5gR_3Z",
        "colab_type": "code",
        "outputId": "cad72770-0706-4af6-8039-7f33f7d7294b",
        "colab": {
          "base_uri": "https://localhost:8080/",
          "height": 53
        }
      },
      "source": [
        "z = y.numpy()\n",
        "z"
      ],
      "execution_count": 0,
      "outputs": [
        {
          "output_type": "execute_result",
          "data": {
            "text/plain": [
              "array([[1., 2.],\n",
              "       [3., 4.]])"
            ]
          },
          "metadata": {
            "tags": []
          },
          "execution_count": 18
        }
      ]
    },
    {
      "cell_type": "markdown",
      "metadata": {
        "id": "FZAjyHTZSIJd",
        "colab_type": "text"
      },
      "source": [
        "The interoperability between PyTorch and Numpy is really important because most datasets you'll work with will likely be read and preprocessed as Numpy arrays."
      ]
    },
    {
      "cell_type": "code",
      "metadata": {
        "id": "Xi3UEyKV3wZc",
        "colab_type": "code",
        "colab": {}
      },
      "source": [
        ""
      ],
      "execution_count": 0,
      "outputs": []
    }
  ]
}